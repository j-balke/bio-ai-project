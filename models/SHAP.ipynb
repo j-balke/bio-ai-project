{
  "cells": [
    {
      "cell_type": "code",
      "execution_count": 1,
      "metadata": {
        "colab": {
          "base_uri": "https://localhost:8080/"
        },
        "id": "8Zy2B24T9S56",
        "outputId": "b005a954-486a-431a-d671-d6e9e4fe4e31"
      },
      "outputs": [
        {
          "name": "stdout",
          "output_type": "stream",
          "text": [
            "Cloning into '/content/conch'...\n",
            "remote: Enumerating objects: 96, done.\u001b[K\n",
            "remote: Counting objects: 100% (61/61), done.\u001b[K\n",
            "remote: Compressing objects: 100% (33/33), done.\u001b[K\n",
            "remote: Total 96 (delta 38), reused 30 (delta 28), pack-reused 35 (from 1)\u001b[K\n",
            "Receiving objects: 100% (96/96), 1.22 MiB | 5.14 MiB/s, done.\n",
            "Resolving deltas: 100% (42/42), done.\n",
            "/content/drive/MyDrive/Colab Notebooks\n",
            "Current working directory: /content/drive/MyDrive/Colab Notebooks\n"
          ]
        }
      ],
      "source": [
        "import torch\n",
        "import torchvision\n",
        "import numpy as np\n",
        "import matplotlib.pyplot as plt\n",
        "import shap\n",
        "from PIL import Image\n",
        "import os\n",
        "import sys\n",
        "\n",
        "# Add the conch directory to the path if needed\n",
        "!git clone https://github.com/mahmoodlab/CONCH.git /content/conch\n",
        "sys.path.append(\"/content/conch\")\n",
        "\n",
        "# Make sure you're in the correct directory\n",
        "%cd /content/drive/MyDrive/Colab Notebooks/\n",
        "print(f\"Current working directory: {os.getcwd()}\")\n"
      ]
    },
    {
      "cell_type": "code",
      "execution_count": 2,
      "metadata": {
        "colab": {
          "base_uri": "https://localhost:8080/"
        },
        "id": "apgJspTG-VdK",
        "outputId": "a4609ecd-35dd-4860-97ff-754443a4515b"
      },
      "outputs": [
        {
          "name": "stderr",
          "output_type": "stream",
          "text": [
            "/usr/local/lib/python3.11/dist-packages/timm/models/layers/__init__.py:48: FutureWarning: Importing from timm.models.layers is deprecated, please import via timm.layers\n",
            "  warnings.warn(f\"Importing from {__name__} is deprecated, please import via timm.layers\", FutureWarning)\n"
          ]
        },
        {
          "name": "stdout",
          "output_type": "stream",
          "text": [
            "Using device: cpu\n"
          ]
        }
      ],
      "source": [
        "# Import modules\n",
        "import datasets_utils\n",
        "import model_utils\n",
        "import utils\n",
        "import config\n",
        "\n",
        "# Set up the device\n",
        "device = torch.device(\"cuda:0\" if torch.cuda.is_available() else \"cpu\")\n",
        "print(f\"Using device: {device}\")"
      ]
    },
    {
      "cell_type": "code",
      "execution_count": 3,
      "metadata": {
        "colab": {
          "base_uri": "https://localhost:8080/"
        },
        "id": "iY_PS_Pn9gZ8",
        "outputId": "c984a422-8a45-41c7-fdb4-bfc8aae92c24"
      },
      "outputs": [
        {
          "name": "stderr",
          "output_type": "stream",
          "text": [
            "<ipython-input-3-f9cb3d8b327a>:7: FutureWarning: You are using `torch.load` with `weights_only=False` (the current default value), which uses the default pickle module implicitly. It is possible to construct malicious pickle data which will execute arbitrary code during unpickling (See https://github.com/pytorch/pytorch/blob/main/SECURITY.md#untrusted-models for more details). In a future release, the default value for `weights_only` will be flipped to `True`. This limits the functions that could be executed during unpickling. Arbitrary objects will no longer be allowed to be loaded via this mode unless they are explicitly allowlisted by the user via `torch.serialization.add_safe_globals`. We recommend you start setting `weights_only=True` for any use case where you don't have full control of the loaded file. Please open an issue on GitHub for any issues related to this experimental feature.\n",
            "  model = torch.load(\"/content/drive/MyDrive/Colab Notebooks/model_pet.pth\", map_location=CONFIG[\"device\"])\n"
          ]
        },
        {
          "name": "stdout",
          "output_type": "stream",
          "text": [
            "Model loaded successfully: <class 'timm.models.vision_transformer.VisionTransformer'>\n",
            "Downloading from https://www.kaggle.com/api/v1/datasets/download/tongpython/cat-and-dog?dataset_version_number=1...\n"
          ]
        },
        {
          "name": "stderr",
          "output_type": "stream",
          "text": [
            "100%|██████████| 218M/218M [00:01<00:00, 172MB/s]"
          ]
        },
        {
          "name": "stdout",
          "output_type": "stream",
          "text": [
            "Extracting files...\n"
          ]
        },
        {
          "name": "stderr",
          "output_type": "stream",
          "text": [
            "\n"
          ]
        },
        {
          "name": "stdout",
          "output_type": "stream",
          "text": [
            "Test loader created with 2023 images\n"
          ]
        }
      ],
      "source": [
        "# Load the model\n",
        "model_name = \"vit\"\n",
        "dataset = \"oxford_pet\"\n",
        "CONFIG = config.get_config(model_name, dataset)\n",
        "\n",
        "# Load the model from the specific path\n",
        "model = torch.load(\"/content/drive/MyDrive/Colab Notebooks/model_pet.pth\", map_location=CONFIG[\"device\"])\n",
        "model.eval()  # Set model to evaluation mode\n",
        "\n",
        "print(f\"Model loaded successfully: {type(model)}\")\n",
        "\n",
        "# Get the test data loader\n",
        "_, _, test_loader = datasets_utils.get_data_loader(CONFIG)\n",
        "print(f\"Test loader created with {len(test_loader.dataset)} images\")\n"
      ]
    },
    {
      "cell_type": "code",
      "execution_count": 4,
      "metadata": {
        "id": "IP0X51sm9jbv"
      },
      "outputs": [],
      "source": [
        "def nhwc_to_nchw(x):\n",
        "    \"\"\"Convert image from NHWC to NCHW format\"\"\"\n",
        "    if isinstance(x, np.ndarray):\n",
        "        x = torch.from_numpy(x)\n",
        "\n",
        "    if x.dim() == 4:\n",
        "        x = x if x.shape[1] == 3 else x.permute(0, 3, 1, 2)\n",
        "    elif x.dim() == 3:\n",
        "        x = x if x.shape[0] == 3 else x.permute(2, 0, 1)\n",
        "    return x\n",
        "\n",
        "def nchw_to_nhwc(x):\n",
        "    \"\"\"Convert image from NCHW to NHWC format\"\"\"\n",
        "    if isinstance(x, np.ndarray):\n",
        "        x = torch.from_numpy(x)\n",
        "\n",
        "    if x.dim() == 4:\n",
        "        x = x if x.shape[3] == 3 else x.permute(0, 2, 3, 1)\n",
        "    elif x.dim() == 3:\n",
        "        x = x if x.shape[2] == 3 else x.permute(1, 2, 0)\n",
        "    return x\n",
        "\n",
        "# Define prediction function for SHAP explainer\n",
        "def predict(img):\n",
        "    \"\"\"Prediction function for SHAP explainer\"\"\"\n",
        "    img = nhwc_to_nchw(torch.Tensor(img))\n",
        "    img = img.to(device)\n",
        "    with torch.no_grad():\n",
        "        output = model(img)\n",
        "    return output\n",
        "\n",
        "# Get sample images from test loader\n",
        "def get_sample_images(dataloader, num_samples=5):\n",
        "    \"\"\"Extract sample images from the test loader\"\"\"\n",
        "    samples = []\n",
        "    labels = []\n",
        "    paths = []\n",
        "\n",
        "    # Get samples\n",
        "    for imgs, lbls, pths in dataloader:\n",
        "        for i in range(min(num_samples, len(imgs))):\n",
        "            img = imgs[i].cpu()\n",
        "            samples.append(img)\n",
        "            labels.append(lbls[i].item())\n",
        "            paths.append(pths[i])\n",
        "        break\n",
        "\n",
        "    return samples, labels, paths"
      ]
    },
    {
      "cell_type": "code",
      "execution_count": 5,
      "metadata": {
        "colab": {
          "base_uri": "https://localhost:8080/"
        },
        "id": "1QGWKcBq9jZk",
        "outputId": "7b031ef4-56dd-480a-d396-6db7a3055c83"
      },
      "outputs": [
        {
          "name": "stdout",
          "output_type": "stream",
          "text": [
            "Sample shape: torch.Size([3, 224, 224])\n",
            "Labels: [1, 1, 1]\n",
            "Paths: ['./assets/data/oxford_pet/1/test_set/test_set/cats/cat.4951.jpg', './assets/data/oxford_pet/1/test_set/test_set/cats/cat.4355.jpg', './assets/data/oxford_pet/1/test_set/test_set/cats/cat.4825.jpg']\n",
            "Class names: ['dog', 'cat']\n"
          ]
        }
      ],
      "source": [
        "# Define transformation functions\n",
        "mean = [0.485, 0.456, 0.406]\n",
        "std = [0.229, 0.224, 0.225]\n",
        "\n",
        "# Transform for input images\n",
        "transform = torchvision.transforms.Compose([\n",
        "    torchvision.transforms.Lambda(nhwc_to_nchw),\n",
        "    torchvision.transforms.Lambda(lambda x: x * (1 / 255)),\n",
        "    torchvision.transforms.Normalize(mean=mean, std=std),\n",
        "    torchvision.transforms.Lambda(nchw_to_nhwc),\n",
        "])\n",
        "\n",
        "# Inverse transform for visualization\n",
        "inv_transform = torchvision.transforms.Compose([\n",
        "    torchvision.transforms.Lambda(nhwc_to_nchw),\n",
        "    torchvision.transforms.Normalize(\n",
        "        mean=(-1 * np.array(mean) / np.array(std)).tolist(),\n",
        "        std=(1 / np.array(std)).tolist(),\n",
        "    ),\n",
        "    torchvision.transforms.Lambda(nchw_to_nhwc),\n",
        "])\n",
        "\n",
        "# Get samples from the test loader\n",
        "samples, labels, paths = get_sample_images(test_loader, num_samples=3)\n",
        "print(f\"Sample shape: {samples[0].shape}\")\n",
        "print(f\"Labels: {labels}\")\n",
        "print(f\"Paths: {paths}\")\n",
        "\n",
        "# Convert sample images to the format expected by SHAP\n",
        "# First normalize them\n",
        "norm_samples = [transform(img).cpu().numpy() for img in samples]\n",
        "\n",
        "# For Oxford Pet dataset, get class names\n",
        "class_names = [\"dog\", \"cat\"]  # Assuming 0 is dog, 1 is cat\n",
        "print(f\"Class names: {class_names}\")\n",
        "\n",
        "# Create a masker for the SHAP explainer\n",
        "masker_blur = shap.maskers.Image(\"blur(128,128)\", norm_samples[0].shape)\n",
        "\n",
        "# Create the SHAP explainer\n",
        "explainer = shap.Explainer(predict, masker_blur, output_names=class_names)\n",
        "\n",
        "# Set up SHAP parameters\n",
        "topk = 2  # Number of top classes to explain (binary classification)\n",
        "batch_size = 50\n",
        "n_evals = 1000  # Reduced for faster computation, increase for better accuracy"
      ]
    },
    {
      "cell_type": "code",
      "execution_count": 6,
      "metadata": {
        "colab": {
          "base_uri": "https://localhost:8080/",
          "height": 515,
          "referenced_widgets": [
            "1683472680674b7693d330a5e840bf0a",
            "912d6a13b3a64251a978c7449cb053c7",
            "bec4b798102e40b49419cb892a0480a5",
            "2155c084a895444aaff42090330787ca",
            "832238bb6e634bf8b4b728c36cda716a",
            "5400b23fdf7a4ae39d64cdc800d1e4ce",
            "9d82aabf6dfc4af8b9fb2342f1fb2b30",
            "195ac456e66147c0a8150b32e100c349",
            "90d98ca31462405795f001f779c4c3a1",
            "1e66cb37699e48c88a0d1235f0f01389",
            "a3fe018a9e664054be75e52c8285302e"
          ]
        },
        "id": "OkXpmsOK9jXE",
        "outputId": "572f5357-feae-40d7-b6fb-f0ebe736e4fd"
      },
      "outputs": [
        {
          "name": "stdout",
          "output_type": "stream",
          "text": [
            "Generating SHAP values (this may take a while)...\n"
          ]
        },
        {
          "data": {
            "application/vnd.jupyter.widget-view+json": {
              "model_id": "1683472680674b7693d330a5e840bf0a",
              "version_major": 2,
              "version_minor": 0
            },
            "text/plain": [
              "  0%|          | 0/998 [00:00<?, ?it/s]"
            ]
          },
          "metadata": {},
          "output_type": "display_data"
        },
        {
          "name": "stderr",
          "output_type": "stream",
          "text": [
            "PartitionExplainer explainer: 2it [37:41, 2261.03s/it]             \n",
            "WARNING:matplotlib.image:Clipping input data to the valid range for imshow with RGB data ([0..1] for floats or [0..255] for integers). Got range [-0.008305535..0.0056628897].\n"
          ]
        },
        {
          "name": "stdout",
          "output_type": "stream",
          "text": [
            "SHAP values shape: (1, 224, 224, 3, 2)\n",
            "Visualizing SHAP values for ['cat', 'cat']\n"
          ]
        },
        {
          "data": {
            "image/png": "[encoded data removed]",
            "text/plain": [
              "<Figure size 900x500 with 4 Axes>"
            ]
          },
          "metadata": {},
          "output_type": "display_data"
        },
        {
          "name": "stdout",
          "output_type": "stream",
          "text": [
            "Saving summary to /content/drive/MyDrive/Colab Notebooks/shap_summary.txt\n",
            "SHAP analysis complete!\n"
          ]
        }
      ],
      "source": [
        "# Generate SHAP values for the first 2 sample images\n",
        "print(\"Generating SHAP values (this may take a while)...\")\n",
        "shap_values = explainer(\n",
        "    np.array(norm_samples[:1]),  # Just explain 2 images to save computation time\n",
        "    max_evals=n_evals,\n",
        "    batch_size=batch_size,\n",
        "    outputs=shap.Explanation.argsort.flip[:topk],\n",
        ")\n",
        "\n",
        "print(f\"SHAP values shape: {shap_values.values.shape}\")\n",
        "\n",
        "# Transform the data back for visualization\n",
        "shap_values.data = inv_transform(shap_values.data).cpu().numpy()\n",
        "shap_values.values = [val for val in np.moveaxis(shap_values.values, -1, 0)]\n",
        "\n",
        "# Visualize the SHAP values\n",
        "true_labels = [class_names[label] for label in labels[:2]]\n",
        "print(f\"Visualizing SHAP values for {true_labels}\")\n",
        "\n",
        "shap.image_plot(\n",
        "    shap_values=shap_values.values,\n",
        "    pixel_values=shap_values.data,\n",
        "    labels=shap_values.output_names,\n",
        "    true_labels=true_labels,\n",
        ")\n",
        "\n",
        "# Save a summary of the results\n",
        "print(\"Saving summary to /content/drive/MyDrive/Colab Notebooks/shap_summary.txt\")\n",
        "with open(\"/content/drive/MyDrive/Colab Notebooks/shap_summary.txt\", \"w\") as f:\n",
        "    f.write(f\"SHAP Explanation for {model_name} on {dataset}\\\\n\")\n",
        "    f.write(\"-\" * 50 + \"\\\\n\")\n",
        "    f.write(f\"Number of images analyzed: {len(shap_values.values[0])}\\\\n\")\n",
        "    f.write(f\"Classes: {class_names}\\\\n\")\n",
        "    f.write(f\"True labels: {true_labels}\\\\n\")\n",
        "    f.write(\"\\\\nAnalysis complete. Check the visualization plots for detailed results.\")\n",
        "\n",
        "print(\"SHAP analysis complete!\")"
      ]
    },
    {
      "cell_type": "markdown",
      "metadata": {},
      "source": [
        "shap_summary.txt:\n",
        "\n",
        "SHAP Explanation for vit on oxford_pet\n",
        "Number of images analyzed: 1\n",
        "Classes: ['dog', 'cat']\n",
        "True labels: ['cat', 'cat']\n",
        "\n",
        "Analysis complete. Check the visualization plots for detailed results."
      ]
    }
  ],
  "metadata": {
    "colab": {
      "provenance": []
    },
    "kernelspec": {
      "display_name": "Python 3",
      "name": "python3"
    },
    "language_info": {
      "name": "python"
    },
    "widgets": {
      "application/vnd.jupyter.widget-state+json": {
        "1683472680674b7693d330a5e840bf0a": {
          "model_module": "@jupyter-widgets/controls",
          "model_module_version": "1.5.0",
          "model_name": "HBoxModel",
          "state": {
            "_dom_classes": [],
            "_model_module": "@jupyter-widgets/controls",
            "_model_module_version": "1.5.0",
            "_model_name": "HBoxModel",
            "_view_count": null,
            "_view_module": "@jupyter-widgets/controls",
            "_view_module_version": "1.5.0",
            "_view_name": "HBoxView",
            "box_style": "",
            "children": [
              "IPY_MODEL_912d6a13b3a64251a978c7449cb053c7",
              "IPY_MODEL_bec4b798102e40b49419cb892a0480a5",
              "IPY_MODEL_2155c084a895444aaff42090330787ca"
            ],
            "layout": "IPY_MODEL_832238bb6e634bf8b4b728c36cda716a"
          }
        },
        "195ac456e66147c0a8150b32e100c349": {
          "model_module": "@jupyter-widgets/base",
          "model_module_version": "1.2.0",
          "model_name": "LayoutModel",
          "state": {
            "_model_module": "@jupyter-widgets/base",
            "_model_module_version": "1.2.0",
            "_model_name": "LayoutModel",
            "_view_count": null,
            "_view_module": "@jupyter-widgets/base",
            "_view_module_version": "1.2.0",
            "_view_name": "LayoutView",
            "align_content": null,
            "align_items": null,
            "align_self": null,
            "border": null,
            "bottom": null,
            "display": null,
            "flex": null,
            "flex_flow": null,
            "grid_area": null,
            "grid_auto_columns": null,
            "grid_auto_flow": null,
            "grid_auto_rows": null,
            "grid_column": null,
            "grid_gap": null,
            "grid_row": null,
            "grid_template_areas": null,
            "grid_template_columns": null,
            "grid_template_rows": null,
            "height": null,
            "justify_content": null,
            "justify_items": null,
            "left": null,
            "margin": null,
            "max_height": null,
            "max_width": null,
            "min_height": null,
            "min_width": null,
            "object_fit": null,
            "object_position": null,
            "order": null,
            "overflow": null,
            "overflow_x": null,
            "overflow_y": null,
            "padding": null,
            "right": null,
            "top": null,
            "visibility": null,
            "width": null
          }
        },
        "1e66cb37699e48c88a0d1235f0f01389": {
          "model_module": "@jupyter-widgets/base",
          "model_module_version": "1.2.0",
          "model_name": "LayoutModel",
          "state": {
            "_model_module": "@jupyter-widgets/base",
            "_model_module_version": "1.2.0",
            "_model_name": "LayoutModel",
            "_view_count": null,
            "_view_module": "@jupyter-widgets/base",
            "_view_module_version": "1.2.0",
            "_view_name": "LayoutView",
            "align_content": null,
            "align_items": null,
            "align_self": null,
            "border": null,
            "bottom": null,
            "display": null,
            "flex": null,
            "flex_flow": null,
            "grid_area": null,
            "grid_auto_columns": null,
            "grid_auto_flow": null,
            "grid_auto_rows": null,
            "grid_column": null,
            "grid_gap": null,
            "grid_row": null,
            "grid_template_areas": null,
            "grid_template_columns": null,
            "grid_template_rows": null,
            "height": null,
            "justify_content": null,
            "justify_items": null,
            "left": null,
            "margin": null,
            "max_height": null,
            "max_width": null,
            "min_height": null,
            "min_width": null,
            "object_fit": null,
            "object_position": null,
            "order": null,
            "overflow": null,
            "overflow_x": null,
            "overflow_y": null,
            "padding": null,
            "right": null,
            "top": null,
            "visibility": null,
            "width": null
          }
        },
        "2155c084a895444aaff42090330787ca": {
          "model_module": "@jupyter-widgets/controls",
          "model_module_version": "1.5.0",
          "model_name": "HTMLModel",
          "state": {
            "_dom_classes": [],
            "_model_module": "@jupyter-widgets/controls",
            "_model_module_version": "1.5.0",
            "_model_name": "HTMLModel",
            "_view_count": null,
            "_view_module": "@jupyter-widgets/controls",
            "_view_module_version": "1.5.0",
            "_view_name": "HTMLView",
            "description": "",
            "description_tooltip": null,
            "layout": "IPY_MODEL_1e66cb37699e48c88a0d1235f0f01389",
            "placeholder": "​",
            "style": "IPY_MODEL_a3fe018a9e664054be75e52c8285302e",
            "value": " 1006/? [37:09&lt;00:00,  2.23s/it]"
          }
        },
        "5400b23fdf7a4ae39d64cdc800d1e4ce": {
          "model_module": "@jupyter-widgets/base",
          "model_module_version": "1.2.0",
          "model_name": "LayoutModel",
          "state": {
            "_model_module": "@jupyter-widgets/base",
            "_model_module_version": "1.2.0",
            "_model_name": "LayoutModel",
            "_view_count": null,
            "_view_module": "@jupyter-widgets/base",
            "_view_module_version": "1.2.0",
            "_view_name": "LayoutView",
            "align_content": null,
            "align_items": null,
            "align_self": null,
            "border": null,
            "bottom": null,
            "display": null,
            "flex": null,
            "flex_flow": null,
            "grid_area": null,
            "grid_auto_columns": null,
            "grid_auto_flow": null,
            "grid_auto_rows": null,
            "grid_column": null,
            "grid_gap": null,
            "grid_row": null,
            "grid_template_areas": null,
            "grid_template_columns": null,
            "grid_template_rows": null,
            "height": null,
            "justify_content": null,
            "justify_items": null,
            "left": null,
            "margin": null,
            "max_height": null,
            "max_width": null,
            "min_height": null,
            "min_width": null,
            "object_fit": null,
            "object_position": null,
            "order": null,
            "overflow": null,
            "overflow_x": null,
            "overflow_y": null,
            "padding": null,
            "right": null,
            "top": null,
            "visibility": null,
            "width": null
          }
        },
        "832238bb6e634bf8b4b728c36cda716a": {
          "model_module": "@jupyter-widgets/base",
          "model_module_version": "1.2.0",
          "model_name": "LayoutModel",
          "state": {
            "_model_module": "@jupyter-widgets/base",
            "_model_module_version": "1.2.0",
            "_model_name": "LayoutModel",
            "_view_count": null,
            "_view_module": "@jupyter-widgets/base",
            "_view_module_version": "1.2.0",
            "_view_name": "LayoutView",
            "align_content": null,
            "align_items": null,
            "align_self": null,
            "border": null,
            "bottom": null,
            "display": null,
            "flex": null,
            "flex_flow": null,
            "grid_area": null,
            "grid_auto_columns": null,
            "grid_auto_flow": null,
            "grid_auto_rows": null,
            "grid_column": null,
            "grid_gap": null,
            "grid_row": null,
            "grid_template_areas": null,
            "grid_template_columns": null,
            "grid_template_rows": null,
            "height": null,
            "justify_content": null,
            "justify_items": null,
            "left": null,
            "margin": null,
            "max_height": null,
            "max_width": null,
            "min_height": null,
            "min_width": null,
            "object_fit": null,
            "object_position": null,
            "order": null,
            "overflow": null,
            "overflow_x": null,
            "overflow_y": null,
            "padding": null,
            "right": null,
            "top": null,
            "visibility": "hidden",
            "width": null
          }
        },
        "90d98ca31462405795f001f779c4c3a1": {
          "model_module": "@jupyter-widgets/controls",
          "model_module_version": "1.5.0",
          "model_name": "ProgressStyleModel",
          "state": {
            "_model_module": "@jupyter-widgets/controls",
            "_model_module_version": "1.5.0",
            "_model_name": "ProgressStyleModel",
            "_view_count": null,
            "_view_module": "@jupyter-widgets/base",
            "_view_module_version": "1.2.0",
            "_view_name": "StyleView",
            "bar_color": null,
            "description_width": ""
          }
        },
        "912d6a13b3a64251a978c7449cb053c7": {
          "model_module": "@jupyter-widgets/controls",
          "model_module_version": "1.5.0",
          "model_name": "HTMLModel",
          "state": {
            "_dom_classes": [],
            "_model_module": "@jupyter-widgets/controls",
            "_model_module_version": "1.5.0",
            "_model_name": "HTMLModel",
            "_view_count": null,
            "_view_module": "@jupyter-widgets/controls",
            "_view_module_version": "1.5.0",
            "_view_name": "HTMLView",
            "description": "",
            "description_tooltip": null,
            "layout": "IPY_MODEL_5400b23fdf7a4ae39d64cdc800d1e4ce",
            "placeholder": "​",
            "style": "IPY_MODEL_9d82aabf6dfc4af8b9fb2342f1fb2b30",
            "value": ""
          }
        },
        "9d82aabf6dfc4af8b9fb2342f1fb2b30": {
          "model_module": "@jupyter-widgets/controls",
          "model_module_version": "1.5.0",
          "model_name": "DescriptionStyleModel",
          "state": {
            "_model_module": "@jupyter-widgets/controls",
            "_model_module_version": "1.5.0",
            "_model_name": "DescriptionStyleModel",
            "_view_count": null,
            "_view_module": "@jupyter-widgets/base",
            "_view_module_version": "1.2.0",
            "_view_name": "StyleView",
            "description_width": ""
          }
        },
        "a3fe018a9e664054be75e52c8285302e": {
          "model_module": "@jupyter-widgets/controls",
          "model_module_version": "1.5.0",
          "model_name": "DescriptionStyleModel",
          "state": {
            "_model_module": "@jupyter-widgets/controls",
            "_model_module_version": "1.5.0",
            "_model_name": "DescriptionStyleModel",
            "_view_count": null,
            "_view_module": "@jupyter-widgets/base",
            "_view_module_version": "1.2.0",
            "_view_name": "StyleView",
            "description_width": ""
          }
        },
        "bec4b798102e40b49419cb892a0480a5": {
          "model_module": "@jupyter-widgets/controls",
          "model_module_version": "1.5.0",
          "model_name": "FloatProgressModel",
          "state": {
            "_dom_classes": [],
            "_model_module": "@jupyter-widgets/controls",
            "_model_module_version": "1.5.0",
            "_model_name": "FloatProgressModel",
            "_view_count": null,
            "_view_module": "@jupyter-widgets/controls",
            "_view_module_version": "1.5.0",
            "_view_name": "ProgressView",
            "bar_style": "",
            "description": "",
            "description_tooltip": null,
            "layout": "IPY_MODEL_195ac456e66147c0a8150b32e100c349",
            "max": 998,
            "min": 0,
            "orientation": "horizontal",
            "style": "IPY_MODEL_90d98ca31462405795f001f779c4c3a1",
            "value": 998
          }
        }
      }
    }
  },
  "nbformat": 4,
  "nbformat_minor": 0
}
